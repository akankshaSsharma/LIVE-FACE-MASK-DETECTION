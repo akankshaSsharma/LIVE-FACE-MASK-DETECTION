{
 "cells": [
  {
   "cell_type": "code",
   "execution_count": 12,
   "metadata": {},
   "outputs": [],
   "source": [
    "from keras.optimizers import RMSprop\n",
    "from keras.preprocessing.image import ImageDataGenerator\n",
    "import cv2\n",
    "from keras.models import Sequential\n",
    "from keras.layers import Conv2D, Input, ZeroPadding2D, BatchNormalization, Activation, MaxPooling2D, Flatten, Dense,Dropout\n",
    "from keras.models import Model, load_model\n",
    "from keras.callbacks import TensorBoard, ModelCheckpoint\n",
    "from sklearn.model_selection import train_test_split\n",
    "from sklearn.metrics import f1_score\n",
    "from sklearn.utils import shuffle\n",
    "import imutils\n",
    "import numpy as np"
   ]
  },
  {
   "cell_type": "code",
   "execution_count": 13,
   "metadata": {},
   "outputs": [],
   "source": [
    "model = Sequential([\n",
    "    Conv2D(100, (3,3), activation='relu', input_shape=(150, 150, 3)),\n",
    "    MaxPooling2D(2,2),\n",
    "    \n",
    "    Conv2D(100, (3,3), activation='relu'),\n",
    "    MaxPooling2D(2,2),\n",
    "    \n",
    "    Flatten(),\n",
    "    Dropout(0.5),\n",
    "    \n",
    "    Dense(50, activation='relu'),\n",
    "    Dense(2, activation='softmax')\n",
    "])\n",
    "model.compile(optimizer='adam', loss='binary_crossentropy', metrics=['acc'])"
   ]
  },
  {
   "cell_type": "code",
   "execution_count": 14,
   "metadata": {},
   "outputs": [
    {
     "name": "stdout",
     "output_type": "stream",
     "text": [
      "Found 1315 images belonging to 2 classes.\n",
      "Found 124 images belonging to 2 classes.\n"
     ]
    }
   ],
   "source": [
    "TRAINING_DIR = \"./train\"\n",
    "train_datagen = ImageDataGenerator(rescale=1.0/255,\n",
    "                                   rotation_range=40,\n",
    "                                   width_shift_range=0.2,\n",
    "                                   height_shift_range=0.2,\n",
    "                                   shear_range=0.2,\n",
    "                                   zoom_range=0.2,\n",
    "                                   horizontal_flip=True,\n",
    "                                   fill_mode='nearest')\n",
    "train_generator = train_datagen.flow_from_directory(TRAINING_DIR, \n",
    "                                                    batch_size=10, \n",
    "                                                    target_size=(150, 150))\n",
    "VALIDATION_DIR = \"./test\"\n",
    "validation_datagen = ImageDataGenerator(rescale=1.0/255)\n",
    "validation_generator = validation_datagen.flow_from_directory(VALIDATION_DIR, \n",
    "                                                         batch_size=10, \n",
    "                                                         target_size=(150, 150))"
   ]
  },
  {
   "cell_type": "code",
   "execution_count": 15,
   "metadata": {},
   "outputs": [],
   "source": [
    "#Initialize a callback checkpoint to keep saving best model after each epoch while training:\n",
    "checkpoint = ModelCheckpoint('model2-{epoch:03d}.model',monitor='val_loss',verbose=1,save_best_only=True,mode='auto')"
   ]
  },
  {
   "cell_type": "code",
   "execution_count": 16,
   "metadata": {},
   "outputs": [
    {
     "name": "stdout",
     "output_type": "stream",
     "text": [
      "Epoch 1/25\n",
      "132/132 [==============================] - 95s 716ms/step - loss: 0.5757 - acc: 0.7027 - val_loss: 0.0325 - val_acc: 0.9113\n",
      "\n",
      "Epoch 00001: val_loss improved from inf to 0.03249, saving model to model2-001.model\n",
      "Epoch 2/25\n",
      "132/132 [==============================] - 92s 700ms/step - loss: 0.3410 - acc: 0.8639 - val_loss: 0.0140 - val_acc: 0.9597\n",
      "\n",
      "Epoch 00002: val_loss improved from 0.03249 to 0.01395, saving model to model2-002.model\n",
      "Epoch 3/25\n",
      "132/132 [==============================] - 91s 693ms/step - loss: 0.3023 - acc: 0.8852 - val_loss: 0.0631 - val_acc: 0.9597\n",
      "\n",
      "Epoch 00003: val_loss did not improve from 0.01395\n",
      "Epoch 4/25\n",
      "132/132 [==============================] - 92s 694ms/step - loss: 0.2253 - acc: 0.9179 - val_loss: 0.0431 - val_acc: 0.9677\n",
      "\n",
      "Epoch 00004: val_loss did not improve from 0.01395\n",
      "Epoch 5/25\n",
      "132/132 [==============================] - 95s 723ms/step - loss: 0.2291 - acc: 0.9095 - val_loss: 0.0388 - val_acc: 0.9839\n",
      "\n",
      "Epoch 00005: val_loss did not improve from 0.01395\n",
      "Epoch 6/25\n",
      "132/132 [==============================] - 98s 740ms/step - loss: 0.2121 - acc: 0.9217 - val_loss: 0.0306 - val_acc: 0.9919\n",
      "\n",
      "Epoch 00006: val_loss did not improve from 0.01395\n",
      "Epoch 7/25\n",
      "132/132 [==============================] - 92s 695ms/step - loss: 0.1844 - acc: 0.9430 - val_loss: 0.0643 - val_acc: 0.9919\n",
      "\n",
      "Epoch 00007: val_loss did not improve from 0.01395\n",
      "Epoch 8/25\n",
      "132/132 [==============================] - 93s 701ms/step - loss: 0.2003 - acc: 0.9209 - val_loss: 0.0060 - val_acc: 0.9758\n",
      "\n",
      "Epoch 00008: val_loss improved from 0.01395 to 0.00600, saving model to model2-008.model\n",
      "Epoch 9/25\n",
      "132/132 [==============================] - 93s 705ms/step - loss: 0.1889 - acc: 0.9247 - val_loss: 4.4934e-04 - val_acc: 0.9597\n",
      "\n",
      "Epoch 00009: val_loss improved from 0.00600 to 0.00045, saving model to model2-009.model\n",
      "Epoch 10/25\n",
      "132/132 [==============================] - 96s 729ms/step - loss: 0.1607 - acc: 0.9430 - val_loss: 0.0126 - val_acc: 0.9839\n",
      "\n",
      "Epoch 00010: val_loss did not improve from 0.00045\n",
      "Epoch 11/25\n",
      "132/132 [==============================] - 101s 762ms/step - loss: 0.1656 - acc: 0.9460 - val_loss: 4.3028e-05 - val_acc: 0.9919\n",
      "\n",
      "Epoch 00011: val_loss improved from 0.00045 to 0.00004, saving model to model2-011.model\n",
      "Epoch 12/25\n",
      "132/132 [==============================] - 108s 818ms/step - loss: 0.1534 - acc: 0.9475 - val_loss: 0.0131 - val_acc: 1.0000\n",
      "\n",
      "Epoch 00012: val_loss did not improve from 0.00004\n",
      "Epoch 13/25\n",
      "132/132 [==============================] - 97s 733ms/step - loss: 0.1649 - acc: 0.9399 - val_loss: 0.0089 - val_acc: 1.0000\n",
      "\n",
      "Epoch 00013: val_loss did not improve from 0.00004\n",
      "Epoch 14/25\n",
      "132/132 [==============================] - 98s 742ms/step - loss: 0.1808 - acc: 0.9316 - val_loss: 0.0010 - val_acc: 0.9355\n",
      "\n",
      "Epoch 00014: val_loss did not improve from 0.00004\n",
      "Epoch 15/25\n",
      "132/132 [==============================] - 100s 759ms/step - loss: 0.1298 - acc: 0.9544 - val_loss: 0.0050 - val_acc: 0.9919\n",
      "\n",
      "Epoch 00015: val_loss did not improve from 0.00004\n",
      "Epoch 16/25\n",
      "132/132 [==============================] - 96s 728ms/step - loss: 0.1351 - acc: 0.9460 - val_loss: 0.0789 - val_acc: 0.9839\n",
      "\n",
      "Epoch 00016: val_loss did not improve from 0.00004\n",
      "Epoch 17/25\n",
      "132/132 [==============================] - 99s 752ms/step - loss: 0.1384 - acc: 0.9536 - val_loss: 0.0032 - val_acc: 0.9839\n",
      "\n",
      "Epoch 00017: val_loss did not improve from 0.00004\n",
      "Epoch 18/25\n",
      "132/132 [==============================] - 95s 717ms/step - loss: 0.1477 - acc: 0.9460 - val_loss: 0.2628 - val_acc: 0.9758\n",
      "\n",
      "Epoch 00018: val_loss did not improve from 0.00004\n",
      "Epoch 19/25\n",
      "132/132 [==============================] - 92s 700ms/step - loss: 0.1632 - acc: 0.9338 - val_loss: 0.0021 - val_acc: 0.9919\n",
      "\n",
      "Epoch 00019: val_loss did not improve from 0.00004\n",
      "Epoch 20/25\n",
      "132/132 [==============================] - 92s 700ms/step - loss: 0.1095 - acc: 0.9589 - val_loss: 0.0378 - val_acc: 0.9758\n",
      "\n",
      "Epoch 00020: val_loss did not improve from 0.00004\n",
      "Epoch 21/25\n",
      "132/132 [==============================] - 95s 720ms/step - loss: 0.1331 - acc: 0.9521 - val_loss: 8.7490e-04 - val_acc: 0.9758\n",
      "\n",
      "Epoch 00021: val_loss did not improve from 0.00004\n",
      "Epoch 22/25\n",
      "132/132 [==============================] - 97s 736ms/step - loss: 0.1569 - acc: 0.9399 - val_loss: 0.0021 - val_acc: 0.9435\n",
      "\n",
      "Epoch 00022: val_loss did not improve from 0.00004\n",
      "Epoch 23/25\n",
      "132/132 [==============================] - 101s 763ms/step - loss: 0.0958 - acc: 0.9673 - val_loss: 1.1690e-05 - val_acc: 0.9919\n",
      "\n",
      "Epoch 00023: val_loss improved from 0.00004 to 0.00001, saving model to model2-023.model\n",
      "Epoch 24/25\n",
      "132/132 [==============================] - 98s 743ms/step - loss: 0.1132 - acc: 0.9582 - val_loss: 8.6490e-04 - val_acc: 0.9839\n",
      "\n",
      "Epoch 00024: val_loss did not improve from 0.00001\n",
      "Epoch 25/25\n",
      "132/132 [==============================] - 94s 713ms/step - loss: 0.1081 - acc: 0.9658 - val_loss: 0.0171 - val_acc: 1.0000\n",
      "\n",
      "Epoch 00025: val_loss did not improve from 0.00001\n"
     ]
    }
   ],
   "source": [
    "history = model.fit_generator(train_generator,\n",
    "                              epochs=25,\n",
    "                              validation_data=validation_generator,\n",
    "                              callbacks=[checkpoint])"
   ]
  },
  {
   "cell_type": "code",
   "execution_count": 17,
   "metadata": {},
   "outputs": [
    {
     "name": "stdout",
     "output_type": "stream",
     "text": [
      "Saving the model as model.h5\n"
     ]
    }
   ],
   "source": [
    "model.save('model.h5')\n",
    "print(\"Saving the model as model.h5\")"
   ]
  },
  {
   "cell_type": "code",
   "execution_count": 18,
   "metadata": {},
   "outputs": [
    {
     "name": "stdout",
     "output_type": "stream",
     "text": [
      "Model: \"sequential_2\"\n",
      "_________________________________________________________________\n",
      "Layer (type)                 Output Shape              Param #   \n",
      "=================================================================\n",
      "conv2d_3 (Conv2D)            (None, 148, 148, 100)     2800      \n",
      "_________________________________________________________________\n",
      "max_pooling2d_3 (MaxPooling2 (None, 74, 74, 100)       0         \n",
      "_________________________________________________________________\n",
      "conv2d_4 (Conv2D)            (None, 72, 72, 100)       90100     \n",
      "_________________________________________________________________\n",
      "max_pooling2d_4 (MaxPooling2 (None, 36, 36, 100)       0         \n",
      "_________________________________________________________________\n",
      "flatten_2 (Flatten)          (None, 129600)            0         \n",
      "_________________________________________________________________\n",
      "dropout_2 (Dropout)          (None, 129600)            0         \n",
      "_________________________________________________________________\n",
      "dense_3 (Dense)              (None, 50)                6480050   \n",
      "_________________________________________________________________\n",
      "dense_4 (Dense)              (None, 2)                 102       \n",
      "=================================================================\n",
      "Total params: 6,573,052\n",
      "Trainable params: 6,573,052\n",
      "Non-trainable params: 0\n",
      "_________________________________________________________________\n"
     ]
    }
   ],
   "source": [
    "model.summary()"
   ]
  },
  {
   "cell_type": "code",
   "execution_count": 19,
   "metadata": {},
   "outputs": [
    {
     "data": {
      "image/png": "[encoded data removed]",
      "text/plain": [
       "<Figure size 432x288 with 1 Axes>"
      ]
     },
     "metadata": {
      "needs_background": "light"
     },
     "output_type": "display_data"
    },
    {
     "data": {
      "image/png": "[encoded data removed]",
      "text/plain": [
       "<Figure size 432x288 with 1 Axes>"
      ]
     },
     "metadata": {
      "needs_background": "light"
     },
     "output_type": "display_data"
    }
   ],
   "source": [
    "import matplotlib.pyplot as plt\n",
    "acc = history.history['acc']\n",
    "loss = history.history['loss']\n",
    "epochs = range(len(acc))\n",
    "plt.plot(epochs, acc, 'b', label='Training accuracy')\n",
    "plt.title('Training accuracy')\n",
    "plt.figure()\n",
    "\n",
    "plt.plot(epochs, loss, 'b', label='Training Loss')\n",
    "plt.title('Training loss')\n",
    "plt.legend()\n",
    "plt.show()"
   ]
  },
  {
   "cell_type": "code",
   "execution_count": 20,
   "metadata": {},
   "outputs": [
    {
     "name": "stdout",
     "output_type": "stream",
     "text": [
      "Test loss: 0.02689114585518837\n",
      "Test accuracy: 1.0\n"
     ]
    }
   ],
   "source": [
    "score = model.evaluate(validation_generator, verbose=0)\n",
    "print('Test loss:', score[0])\n",
    "print('Test accuracy:', score[1])"
   ]
  },
  {
   "cell_type": "code",
   "execution_count": null,
   "metadata": {},
   "outputs": [],
   "source": [
    "#LIVE VIDEO MASK DETECTION"
   ]
  },
  {
   "cell_type": "code",
   "execution_count": 21,
   "metadata": {},
   "outputs": [
    {
     "name": "stdout",
     "output_type": "stream",
     "text": [
      "True\n"
     ]
    }
   ],
   "source": [
    "facecascade = cv2.CascadeClassifier(r\"C:\\Users\\Akanksha\\AppData\\Local\\Programs\\Python\\Python36\\Lib\\site-packages\\cv2\\data\\haarcascade_frontalcatface.xml\")\n",
    "test=facecascade.load(r\"C:\\Users\\Akanksha\\AppData\\Local\\Programs\\Python\\Python36\\Lib\\site-packages\\cv2\\data\\haarcascade_frontalcatface.xml\")\n",
    "print(test)"
   ]
  },
  {
   "cell_type": "code",
   "execution_count": 40,
   "metadata": {},
   "outputs": [],
   "source": [
    "model=load_model(\"model.h5\")\n",
    "results={0:'without mask',1:'mask'}\n",
    "GR_dict={0:(0,0,255),1:(0,255,0)}\n",
    "rect_size = 4\n",
    "cap = cv2.VideoCapture(0) \n",
    "haarcascade = cv2.CascadeClassifier(r\"C:\\Users\\Akanksha\\AppData\\Local\\Programs\\Python\\Python36\\Lib\\site-packages\\cv2\\data\\haarcascade_frontalcatface.xml\")\n",
    "while (True):\n",
    "    (rval, im) = cap.read()\n",
    "    im=cv2.flip(im,1,1) \n",
    "    \n",
    "    rerect_size = cv2.resize(im, (im.shape[1] // rect_size, im.shape[0] // rect_size))\n",
    "    faces = haarcascade.detectMultiScale(rerect_size)\n",
    "    for f in faces:\n",
    "        (x, y, w, h) = [v * rect_size for v in f] \n",
    "        \n",
    "        face_img = im[y:y+h, x:x+w]\n",
    "        rerect_sized=cv2.resize(face_img,(150,150))\n",
    "        normalized=rerect_sized/255.0\n",
    "        reshaped=np.reshape(normalized,(1,150,150,3))\n",
    "        reshaped = np.vstack([reshaped])\n",
    "        result=model.predict(reshaped)\n",
    "        \n",
    "        label=np.argmax(result,axis=1)[0]\n",
    "      \n",
    "        cv2.rectangle(im,(x,y),(x+w,y+h),GR_dict[label],2)\n",
    "        cv2.rectangle(im,(x,y-40),(x+w,y),GR_dict[label],-1)\n",
    "        cv2.putText(im, results[label], (x, y-10),cv2.FONT_HERSHEY_SIMPLEX,0.8,(255,255,255),2)\n",
    "    cv2.imshow('LIVE MASK DETECTION',im)\n",
    "    key = cv2.waitKey(10)\n",
    "    \n",
    "    if cv2.waitKey(1) & 0xFF == ord('q'):\n",
    "        break\n",
    "    \n",
    "cap.release()\n",
    "cv2.destroyAllWindows()\n"
   ]
  }
 ],
 "metadata": {
  "kernelspec": {
   "display_name": "Python 3",
   "language": "python",
   "name": "python3"
  },
  "language_info": {
   "codemirror_mode": {
    "name": "ipython",
    "version": 3
   },
   "file_extension": ".py",
   "mimetype": "text/x-python",
   "name": "python",
   "nbconvert_exporter": "python",
   "pygments_lexer": "ipython3",
   "version": "3.6.5"
  }
 },
 "nbformat": 4,
 "nbformat_minor": 4
}
